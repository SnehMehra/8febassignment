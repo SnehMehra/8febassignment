{
 "cells": [
  {
   "cell_type": "code",
   "execution_count": 1,
   "id": "454775a0-0095-4728-9014-473c007a1097",
   "metadata": {},
   "outputs": [
    {
     "name": "stdout",
     "output_type": "stream",
     "text": [
      "Area of Rectangle: 200\n",
      "Area of Circle: 78.5\n"
     ]
    }
   ],
   "source": [
    "#Q.1\n",
    "#Abstraction is an important concept in object-oriented programming (OOP).\n",
    "#It is a way of hiding the implementation details of a class and showing\n",
    "#only the necessary information to the user. \n",
    "from abc import ABC, abstractmethod\n",
    "\n",
    "class Shape(ABC):\n",
    "    @abstractmethod\n",
    "    def area(self):\n",
    "        pass\n",
    "\n",
    "class Rectangle(Shape):\n",
    "    def __init__(self, length, breadth):\n",
    "        self.length = length\n",
    "        self.breadth = breadth\n",
    "    \n",
    "    def area(self):\n",
    "        return self.length * self.breadth\n",
    "\n",
    "class Circle(Shape):\n",
    "    def __init__(self, radius):\n",
    "        self.radius = radius\n",
    "    \n",
    "    def area(self):\n",
    "        return 3.14 * self.radius * self.radius\n",
    "\n",
    "# Create objects of the subclasses\n",
    "r = Rectangle(10, 20)\n",
    "c = Circle(5)\n",
    "\n",
    "# Call the area() method of the subclasses\n",
    "print(\"Area of Rectangle:\", r.area())\n",
    "print(\"Area of Circle:\", c.area())\n"
   ]
  },
  {
   "cell_type": "code",
   "execution_count": 2,
   "id": "7110b9a7-6437-43bc-a7cf-f8cf59a9f497",
   "metadata": {},
   "outputs": [
    {
     "name": "stdout",
     "output_type": "stream",
     "text": [
      "Car started\n",
      "Car stopped\n",
      "Employee Name: John\n",
      "Employee Salary: 50000\n",
      "Employee Salary after raise: 60000\n"
     ]
    }
   ],
   "source": [
    "#Q.2\n",
    "#abstraction\n",
    "#Abstraction is the process of hiding complex implementation details \n",
    "#and providing a simplified interface for the user to interact with.\n",
    "#It is the process of identifying the essential features of an object\n",
    "#and ignoring the non-essential details. Abstraction can be achieved in \n",
    "#Python by using abstract classes or interfaces. Abstraction is mainly \n",
    "#focused on the behavior of the object.\n",
    "\n",
    "\n",
    "\n",
    "#encapsulation\n",
    "#Encapsulation, on the other hand, is the process of wrapping data and\n",
    "#methods together in a single unit. It is the process of hiding implementation\n",
    "#details and providing access to the data only through public methods. \n",
    "#Encapsulation can be achieved in Python by using classes and access modifiers. \n",
    "#Encapsulation is mainly focused on data hiding and security.\n",
    "\n",
    "# Example of Abstraction\n",
    "from abc import ABC, abstractmethod\n",
    "\n",
    "class Vehicle(ABC):\n",
    "    @abstractmethod\n",
    "    def start(self):\n",
    "        pass\n",
    "    \n",
    "    @abstractmethod\n",
    "    def stop(self):\n",
    "        pass\n",
    "    \n",
    "class Car(Vehicle):\n",
    "    def start(self):\n",
    "        print(\"Car started\")\n",
    "    \n",
    "    def stop(self):\n",
    "        print(\"Car stopped\")\n",
    "\n",
    "# Example of Encapsulation\n",
    "class Employee:\n",
    "    def __init__(self, name, salary):\n",
    "        self.name = name\n",
    "        self.__salary = salary\n",
    "    \n",
    "    def get_salary(self):\n",
    "        return self.__salary\n",
    "    \n",
    "    def set_salary(self, salary):\n",
    "        self.__salary = salary\n",
    "\n",
    "# Create objects of the subclasses\n",
    "car = Car()\n",
    "car.start()\n",
    "car.stop()\n",
    "\n",
    "# Create objects of the Employee class\n",
    "emp = Employee(\"John\", 50000)\n",
    "print(\"Employee Name:\", emp.name)\n",
    "print(\"Employee Salary:\", emp.get_salary())\n",
    "emp.set_salary(60000)\n",
    "print(\"Employee Salary after raise:\", emp.get_salary())\n",
    "\n"
   ]
  },
  {
   "cell_type": "code",
   "execution_count": 1,
   "id": "4d586575-ab45-4da2-89e3-ffbc979c03dd",
   "metadata": {},
   "outputs": [
    {
     "name": "stdout",
     "output_type": "stream",
     "text": [
      "Woof\n",
      "Meow\n"
     ]
    }
   ],
   "source": [
    "#Q.3\n",
    "#In Python, abc module stands for Abstract Base Classes.\n",
    "#It provides the infrastructure for defining abstract base classes (ABCs).\n",
    "#ABCs are classes that can not be instantiated but can be subclassed by other classes.\n",
    "\n",
    "#The abc module is used to define and enforce a set of rules or protocols \n",
    "#for the subclasses, ensuring that they have the necessary methods and properties to function properly.\n",
    "#It defines a set of abstract methods or properties that must be implemented in the subclasses.\n",
    "\n",
    "\n",
    "from abc import ABC, abstractmethod\n",
    "\n",
    "class Animal(ABC):\n",
    "    \n",
    "    @abstractmethod\n",
    "    def speak(self):\n",
    "        pass\n",
    "    \n",
    "class Dog(Animal):\n",
    "    \n",
    "    def speak(self):\n",
    "        return \"Woof\"\n",
    "    \n",
    "class Cat(Animal):\n",
    "    \n",
    "    def speak(self):\n",
    "        return \"Meow\"\n",
    "    \n",
    "class Cow(Animal):\n",
    "    pass\n",
    "\n",
    "\n",
    "\n",
    "dog = Dog()\n",
    "cat = Cat()\n",
    "\n",
    "print(dog.speak())  \n",
    "print(cat.speak()) \n"
   ]
  },
  {
   "cell_type": "code",
   "execution_count": null,
   "id": "37120251-d265-416f-853b-aa32728397ce",
   "metadata": {},
   "outputs": [],
   "source": [
    "#Q.4\n",
    "#We can achieve data abstraction in object-oriented programming (OOP) using two main techniques:\n",
    "\n",
    "#Abstraction through abstract classes and interfaces\n",
    "#Abstraction through access modifiers\n",
    "#Abstraction through abstract classes and interfaces:"
   ]
  },
  {
   "cell_type": "code",
   "execution_count": 7,
   "id": "c4c0df81-424d-42a7-8152-eceb837f6675",
   "metadata": {},
   "outputs": [
    {
     "name": "stdout",
     "output_type": "stream",
     "text": [
      "50\n"
     ]
    }
   ],
   "source": [
    "#Q.5\n",
    "#No, we cannot create an instance of an abstract class in Python.\n",
    "#An abstract class is a class that contains one or more abstract methods\n",
    "#, which are methods that have no implementation in the abstract class\n",
    "#and must be implemented in its subclasses. Since the abstract class \n",
    "#does not provide implementation for all of its methods, it cannot be\n",
    "#instantiated directly.\n",
    "\n",
    "from abc import ABC, abstractmethod\n",
    "\n",
    "class Shape(ABC):\n",
    "    @abstractmethod\n",
    "    def area(self):\n",
    "        pass\n",
    "\n",
    "class Rectangle(Shape):\n",
    "    def __init__(self, length, breadth):\n",
    "        self.length = length\n",
    "        self.breadth = breadth\n",
    "    \n",
    "    def area(self):\n",
    "        return self.length * self.breadth\n",
    "\n",
    "r = Rectangle(5, 10)\n",
    "print(r.area())   # Output: 50\n"
   ]
  },
  {
   "cell_type": "code",
   "execution_count": null,
   "id": "3aeb92fb-81be-411f-bfbe-258f22884087",
   "metadata": {},
   "outputs": [],
   "source": []
  }
 ],
 "metadata": {
  "kernelspec": {
   "display_name": "Python 3 (ipykernel)",
   "language": "python",
   "name": "python3"
  },
  "language_info": {
   "codemirror_mode": {
    "name": "ipython",
    "version": 3
   },
   "file_extension": ".py",
   "mimetype": "text/x-python",
   "name": "python",
   "nbconvert_exporter": "python",
   "pygments_lexer": "ipython3",
   "version": "3.10.8"
  }
 },
 "nbformat": 4,
 "nbformat_minor": 5
}
